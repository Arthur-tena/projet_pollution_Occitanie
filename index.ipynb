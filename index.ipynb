{
  "cells": [
    {
      "cell_type": "raw",
      "metadata": {},
      "source": [
        "---\n",
        "title: \"Accueil\"\n",
        "---"
      ],
      "id": "c31b5f73"
    },
    {
      "cell_type": "code",
      "metadata": {},
      "source": [
        "#| echo: false\n",
        "# %%\n",
        "import os \n",
        "from IPython.display import display, HTML\n",
        "url_carte=\"https://arthur-tena.github.io/projet_pollution_occitanie/Carte/\"\n",
        "url_visu=\"https://arthur-tena.github.io/projet_pollution_occitanie/Visualisation/\"\n",
        "image_carte=occitanie-carte-france-region.svg\n",
        "image_visu=graphiques.svg\n",
        "html_code_carte = f'<a href=\"{url_carte}\" target=\"_blank\"><img src=\"{image_carte}\" alt=\"Image\"></a>'\n",
        "html_code_visu = f'<a href=\"{url_visu}\" target=\"_blank\"><img src=\"{image_visu}\" alt=\"Image\"></a>'\n",
        "display(HTML(html_code_carte,html_code_visu))"
      ],
      "id": "8d601e11",
      "execution_count": null,
      "outputs": []
    }
  ],
  "metadata": {
    "kernelspec": {
      "name": "python3",
      "language": "python",
      "display_name": "Python 3 (ipykernel)"
    }
  },
  "nbformat": 4,
  "nbformat_minor": 5
}