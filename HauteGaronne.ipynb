{
  "cells": [
    {
      "cell_type": "raw",
      "metadata": {},
      "source": [
        "---\n",
        "title: \"Haute-Garonne\"\n",
        "format: html\n",
        "---"
      ],
      "id": "e48efa90"
    },
    {
      "cell_type": "code",
      "metadata": {},
      "source": [
        "#|code-fold: true\n",
        "import pandas as pd\n",
        "import requests\n",
        "import plotly.express as px\n",
        "import plotly.graph_objects as go\n",
        "\n",
        "\n",
        "url='https://services9.arcgis.com/7Sr9Ek9c1QTKmbwr/arcgis/rest/services/mesures_occitanie_annuelle_poll_princ/FeatureServer/0/query?where=1%3D1&outFields=nom_dept,nom_com,insee_com,nom_station,nom_poll,valeur,unite,date_debut,x_l93,y_l93&outSR=4326&f=json'\n",
        "\n",
        "#Extraction des données\n",
        "response = requests.get(url)\n",
        "if response.status_code == 200:\n",
        "    data = response.json()\n",
        "\n",
        "    # Extraction des entités de la réponse JSON\n",
        "    features = data.get('features', [])\n",
        "\n",
        "    # Extraction des données pertinentes de chaque entité\n",
        "    records = []\n",
        "    for feature in features:\n",
        "        attributes = feature.get('attributes', {})\n",
        "        records.append(attributes)\n",
        "\n",
        "    # Création d'un DataFrame\n",
        "    df = pd.DataFrame(records)\n",
        "    df['valeur'].fillna(0, inplace=True)\n",
        "    # Conversion de la colonne 'date_debut' qui est en millisecondes\n",
        "    df['date_debut'] = pd.to_datetime(df['date_debut'], unit='ms')\n",
        "# Liste des polluants à afficher\n",
        "polluants = ['NO', 'NOX', 'O3', 'PM10', 'NO2','PM2.5']\n",
        "for polluant in polluants:\n",
        "    #Regrouper les données de la ville de Montpellier\n",
        "    filt_data = df[(df['nom_dept'] == 'HAUTE-GARONNE') & (df['nom_poll'] == polluant)]\n",
        "    filt_data = filt_data.sort_values(by='date_debut')\n",
        "    \n",
        "\n",
        "# Créer un graphique en ligne pour chaque polluant\n",
        "for polluant in polluants:\n",
        "    fig = px.scatter(df[df['nom_poll'] == polluant], x='date_debut', y='valeur', \n",
        "                  title=f'Évolution de {polluant} au fil du temps dans le département Haute-Garonne',\n",
        "                  labels={'valeur':'Concentration de Polluant', 'date_debut': 'Date'})\n",
        "\n",
        "    fig.show()"
      ],
      "id": "2072493f",
      "execution_count": null,
      "outputs": []
    }
  ],
  "metadata": {
    "kernelspec": {
      "name": "python3",
      "language": "python",
      "display_name": "Python 3 (ipykernel)"
    }
  },
  "nbformat": 4,
  "nbformat_minor": 5
}