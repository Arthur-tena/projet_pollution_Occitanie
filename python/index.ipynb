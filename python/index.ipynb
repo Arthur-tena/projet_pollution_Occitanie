{
 "cells": [
  {
   "cell_type": "raw",
   "metadata": {},
   "source": [
    "---\n",
    "title: \"Accueil\"\n",
    "---"
   ],
   "id": "b5b7eaaf"
  },
  {
   "cell_type": "code",
   "metadata": {},
   "source": [
    "# | echo: false\n",
    "# %%\n",
    "import os\n",
    "from IPython.display import display, HTML\n",
    "\n",
    "url_carte = \"https://arthur-tena.github.io/projet_pollution_occitanie/Carte/\"\n",
    "url_visu = \"https://arthur-tena.github.io/projet_pollution_occitanie/Visualisation/\"\n",
    "image_carte = occitanie_carte.svg\n",
    "image_visu = graphiques.svg\n",
    "html_code_carte = (\n",
    "    f'<a href=\"{url_carte}\" target=\"_blank\"><img src=\"{image_carte}\" alt=\"Image\"></a>'\n",
    ")\n",
    "html_code_visu = (\n",
    "    f'<a href=\"{url_visu}\" target=\"_blank\"><img src=\"{image_visu}\" alt=\"Image\"></a>'\n",
    ")\n",
    "display(HTML(html_code_carte, html_code_visu))"
   ],
   "id": "3c168b5d",
   "execution_count": null,
   "outputs": []
  }
 ],
 "metadata": {
  "kernelspec": {
   "name": "python3",
   "language": "python",
   "display_name": "Python 3 (ipykernel)"
  }
 },
 "nbformat": 4,
 "nbformat_minor": 5
}