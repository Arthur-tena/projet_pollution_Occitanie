{
 "cells": [
  {
   "cell_type": "code",
   "execution_count": 2,
   "metadata": {},
   "outputs": [],
   "source": [
    "import requests\n",
    "import pandas as pd\n",
    "import numpy as np\n",
    "import timeit"
   ]
  },
  {
   "cell_type": "markdown",
   "metadata": {},
   "source": [
    "### Steps to follow \n",
    "1. Get csv data of **IQA** \n",
    "2. Explore the data set\n",
    "3. Filter the data by dept\n",
    "4. analyse / visualize the data of each dept individually"
   ]
  },
  {
   "cell_type": "code",
   "execution_count": 3,
   "metadata": {},
   "outputs": [],
   "source": [
    "# Read csv file that contains each code_zone of the 13 departments of Occitanie\n",
    "dept = pd.read_excel(\"/home/zack/projet_pollution_occitanie/dept.xlsx\")\n",
    "\n",
    "# Get  13 clean (i.e doesn't contain empty values) lists that contains the codes of zones of each departments from our data frame \"dept\"\n",
    "dept_lists = [dept[col].dropna().tolist() for col in dept.columns]\n",
    "\n",
    "# From the \"dept\" df get the names of each department \n",
    "dept_names = dept.columns.to_list()\n",
    "\n",
    "# Create a dictionary that assign each dept to it's codes of zone   \n",
    "data = dict(zip(dept_names,dept_lists))"
   ]
  },
  {
   "cell_type": "markdown",
   "metadata": {},
   "source": [
    "### Get the csv file"
   ]
  },
  {
   "cell_type": "code",
   "execution_count": 4,
   "metadata": {},
   "outputs": [],
   "source": [
    "# Read the csv file 'indice de qualité de l'air'\n",
    "df = pd.read_csv(\"IQA.csv\")"
   ]
  },
  {
   "cell_type": "markdown",
   "metadata": {},
   "source": [
    "We want to know how many days we have in this dataset"
   ]
  },
  {
   "cell_type": "code",
   "execution_count": 5,
   "metadata": {},
   "outputs": [
    {
     "name": "stdout",
     "output_type": "stream",
     "text": [
      "Le nombre des jours inclus dans cetter analyse est 688 avec date de début 2023/11/19 00:00:00+00 et jusqu'à 2022/01/01 00:00:00+00\n"
     ]
    }
   ],
   "source": [
    "days_num = df['date_ech'].value_counts().size\n",
    "start_date = df['date_ech'][0]\n",
    "last_day = df['date_ech'][df.shape[0]-1]\n",
    "print(f\"Le nombre des jours inclus dans cetter analyse est {days_num} avec date de début {start_date} et jusqu'à {last_day}\")"
   ]
  },
  {
   "cell_type": "code",
   "execution_count": 6,
   "metadata": {},
   "outputs": [
    {
     "data": {
      "text/plain": [
       "Index(['X', 'Y', 'date_ech', 'code_qual', 'lib_qual', 'coul_qual', 'date_dif',\n",
       "       'source', 'type_zone', 'code_zone', 'lib_zone', 'code_no2', 'code_so2',\n",
       "       'code_o3', 'code_pm10', 'code_pm25', 'x_wgs84', 'y_wgs84', 'x_reg',\n",
       "       'y_reg', 'epsg_reg', 'ObjectId'],\n",
       "      dtype='object')"
      ]
     },
     "execution_count": 6,
     "metadata": {},
     "output_type": "execute_result"
    }
   ],
   "source": [
    "df.columns"
   ]
  },
  {
   "cell_type": "code",
   "execution_count": 7,
   "metadata": {},
   "outputs": [],
   "source": [
    "columns_to_drop = ['X','Y','source','type_zone','x_wgs84','y_wgs84','x_reg','y_reg','epsg_reg','ObjectId']\n",
    "# Create a copy to \n",
    "df2 = df.copy()\n",
    "df2 = df2.drop(columns_to_drop,axis=1)"
   ]
  },
  {
   "cell_type": "markdown",
   "metadata": {},
   "source": [
    "Filter the data frame by department "
   ]
  },
  {
   "cell_type": "code",
   "execution_count": 8,
   "metadata": {},
   "outputs": [],
   "source": [
    "# Create a data frame for each department :\n",
    "# Ariège\n",
    "df_Ariège = df2[df2['code_zone'].isin(data['Ariège'])]\n",
    "# Aude\n",
    "df_Aude = df2[df2['code_zone'].isin(data['Aude'])]\n",
    "# Averyron\n",
    "df_Averyron = df2[df2['code_zone'].isin(data['Averyron'])]\n",
    "# Gard\n",
    "df_Gard = df2[df2['code_zone'].isin(data['Gard'])]\n",
    "# Gers \n",
    "df_Gers = df2[df2['code_zone'].isin(data['Gers'])]\n",
    "# Hautes_Pyrénées\n",
    "df_Hautes_Pyrénées = df2[df2['code_zone'].isin(data['Hautes-Pyrénées'])]\n",
    "# Hérlaut\n",
    "df_Hérlaut = df2[df2['code_zone'].isin(data['Hérlaut'])]\n",
    "#Lot\n",
    "df_Lot = df2[df2['code_zone'].isin(data['Lot'])]\n",
    "# Lozère\n",
    "df_Lozère = df2[df2['code_zone'].isin(data['Lozère'])]\n",
    "# Pyrénées_Orientales\n",
    "df_Pyrénées_Orientales = df2[df2['code_zone'].isin(data['Pyrénées-Orientales'])]\n",
    "# Tarn\n",
    "df_Tarn = df2[df2['code_zone'].isin(data['Tarn'])]\n",
    "# Tarn_garonne\n",
    "df_Tarn_garonne = df2[df2['code_zone'].isin(data['Tarn-et garonne'])]\n",
    "# Haute_Garonne\n",
    "df_Haute_Garonne = df2[df2['code_zone'].isin(data['la Haute-Garonne'])]"
   ]
  },
  {
   "cell_type": "code",
   "execution_count": 15,
   "metadata": {},
   "outputs": [
    {
     "data": {
      "text/plain": [
       "26"
      ]
     },
     "execution_count": 15,
     "metadata": {},
     "output_type": "execute_result"
    }
   ],
   "source": [
    "df_Tarn['code_zone'].unique().size + df_Lot['code_zone'].unique().size"
   ]
  },
  {
   "cell_type": "markdown",
   "metadata": {},
   "source": []
  }
 ],
 "metadata": {
  "kernelspec": {
   "display_name": "base",
   "language": "python",
   "name": "python3"
  },
  "language_info": {
   "codemirror_mode": {
    "name": "ipython",
    "version": 3
   },
   "file_extension": ".py",
   "mimetype": "text/x-python",
   "name": "python",
   "nbconvert_exporter": "python",
   "pygments_lexer": "ipython3",
   "version": "3.11.5"
  }
 },
 "nbformat": 4,
 "nbformat_minor": 2
}
