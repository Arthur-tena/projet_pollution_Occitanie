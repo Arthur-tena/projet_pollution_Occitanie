{
  "cells": [
    {
      "cell_type": "raw",
      "metadata": {},
      "source": [
        "---\n",
        "title: \"Untitled\"\n",
        "format: html\n",
        "---"
      ],
      "id": "5c5a3592"
    },
    {
      "cell_type": "code",
      "metadata": {},
      "source": [
        "import geopandas as gpd\n",
        "import pandas as pd\n",
        "from shapely.geometry import Point\n",
        "import json\n",
        "import matplotlib.pyplot as plt\n",
        "\n",
        "# Lire les données GeoJSON\n",
        "gdf = gpd.read_file('c:/Users/aicha/OneDrive/Bureau/Projet pollution Occitanie/projet_pollution_Occitanie/departements.json')\n",
        "\n",
        "# Afficher les premières lignes du GeoDataFrame\n",
        "print(gdf.head())\n"
      ],
      "id": "e4549fa8",
      "execution_count": null,
      "outputs": []
    }
  ],
  "metadata": {
    "kernelspec": {
      "name": "python3",
      "language": "python",
      "display_name": "Python 3 (ipykernel)"
    }
  },
  "nbformat": 4,
  "nbformat_minor": 5
}