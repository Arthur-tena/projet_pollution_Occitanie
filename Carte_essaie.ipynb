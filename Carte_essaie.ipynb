{
  "cells": [
    {
      "cell_type": "raw",
      "metadata": {},
      "source": [
        "---\n",
        "title: \"Untitled\"\n",
        "format: html\n",
        "---"
      ],
      "id": "2c6f0901"
    },
    {
      "cell_type": "code",
      "metadata": {},
      "source": [
        "import geopandas as gpd\n",
        "import pandas as pd\n",
        "from shapely.geometry import Point\n",
        "import json\n",
        "import matplotlib.pyplot as plt\n",
        "\n",
        "# Lire les données GeoJSON\n",
        "data = [{\"id\":9,\"region_code\":\"76\",\"code\":\"09\",\"name\":\"Ari\\u00e8ge\",\"slug\":\"ariege\"},{\"id\":11,\"region_code\":\"76\",\"code\":\"11\",\"name\":\"Aude\",\"slug\":\"aude\"},{\"id\":12,\"region_code\":\"76\",\"code\":\"12\",\"name\":\"Aveyron\",\"slug\":\"aveyron\"},{\"id\":31,\"region_code\":\"76\",\"code\":\"30\",\"name\":\"Gard\",\"slug\":\"gard\"},{\"id\":35,\"region_code\":\"76\",\"code\":\"34\",\"name\":\"H\\u00e9rault\",\"slug\":\"herault\"},{\"id\":32,\"region_code\":\"76\",\"code\":\"31\",\"name\":\"Haute-Garonne\",\"slug\":\"haute garonne\"},{\"id\":33,\"region_code\":\"76\",\"code\":\"32\",\"name\":\"Gers\",\"slug\":\"gers\"},{\"id\":47,\"region_code\":\"76\",\"code\":\"46\",\"name\":\"Lot\",\"slug\":\"lot\"},{\"id\":49,\"region_code\":\"76\",\"code\":\"48\",\"name\":\"Loz\\u00e8re\",\"slug\":\"lozere\"},{\"id\":66,\"region_code\":\"76\",\"code\":\"65\",\"name\":\"Hautes-Pyr\\u00e9n\\u00e9es\",\"slug\":\"hautes pyrenees\"},{\"id\":67,\"region_code\":\"76\",\"code\":\"66\",\"name\":\"Pyr\\u00e9n\\u00e9es-Orientales\",\"slug\":\"pyrenees orientales\"},{\"id\":82,\"region_code\":\"76\",\"code\":\"81\",\"name\":\"Tarn\",\"slug\":\"tarn\"},{\"id\":83,\"region_code\":\"76\",\"code\":\"82\",\"name\":\"Tarn-et-Garonne\",\"slug\":\"tarn et garonne\"}]\n",
        "\n",
        "# Convertir la liste d'objets JSON en un DataFrame Pandas\n",
        "df = pd.DataFrame(data)\n",
        "\n",
        "# Ajouter une colonne de géométrie avec des Polygons fictifs pour chaque département\n",
        "df['geometry'] = [Polygon([(0, 0), (1, 0), (1, 1), (0, 1)]) for _ in range(len(df))]\n",
        "\n",
        "# Convertir le DataFrame en GeoDataFrame\n",
        "gdf = gpd.GeoDataFrame(df, geometry='geometry')\n",
        "# Créer une carte\n",
        "fig, ax = plt.subplots(figsize=(10, 10))\n",
        "gdf.boundary.plot(ax=ax, linewidth=1)\n",
        "gdf.plot(ax=ax, color='lightgray', edgecolor='black')\n",
        "\n",
        "# Ajouter des étiquettes aux départements\n",
        "for x, y, label in zip(gdf.geometry.centroid.x, gdf.geometry.centroid.y, gdf['name']):\n",
        "    ax.text(x, y, label, fontsize=8, ha='center')\n",
        "\n",
        "plt.title('Carte de l\\'Occitanie')\n",
        "plt.show()\n"
      ],
      "id": "9da54696",
      "execution_count": null,
      "outputs": []
    }
  ],
  "metadata": {
    "kernelspec": {
      "name": "python3",
      "language": "python",
      "display_name": "Python 3 (ipykernel)"
    }
  },
  "nbformat": 4,
  "nbformat_minor": 5
}