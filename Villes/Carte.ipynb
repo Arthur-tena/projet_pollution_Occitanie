{
  "cells": [
    {
      "cell_type": "raw",
      "metadata": {},
      "source": [
        "---\n",
        "title: \"Carte\"\n",
        "---"
      ],
<<<<<<< HEAD
<<<<<<< HEAD
      "id": "9cb3fc43"
=======
      "id": "bf446245"
>>>>>>> main
=======
      "id": "8bf8ef7d"
>>>>>>> d938de631449099ac57484ed3a17a1b8a7d9dcd7
    },
    {
      "cell_type": "code",
      "metadata": {},
      "source": [
        "import folium\n",
        "import geopandas as gpd\n",
        "\n",
        "# Lecture du fichier GeoJSON\n",
        "donnees_geojson= gpd.read_file('Carte\\Data_Carte\\departements.geojson')\n",
        "# Sélection des lignes avec code des départements\n",
        "codes_a_selectionner = ['11','09','12','30','31','32','34','46','48','65','66','81','82']\n",
        "donnees_selectionnees = donnees_geojson[donnees_geojson['code'].isin(codes_a_selectionner)]\n",
        "\n",
        "# Affichage des lignes sélectionnées\n",
        "print(donnees_selectionnees)\n",
        "\n",
        "# Vérifier si des géométries ont été sélectionnées\n",
        "if not donnees_selectionnees.empty:\n",
        "    # Reprojeter les géométries dans un CRS projeté (par exemple, Web Mercator)\n",
        "    donnees_selectionnees = donnees_selectionnees.to_crs(epsg=3857)\n",
        "\n",
        "    # Créer une carte centrée sur la position moyenne des géométries sélectionnées\n",
        "    latitude, longitude = donnees_selectionnees.geometry.centroid.y.mean(), donnees_selectionnees.geometry.centroid.x.mean()\n",
        "    ma_carte = folium.Map(location=[latitude, longitude], zoom_start=10)\n",
        "\n",
        "    # Ajouter les géométries sélectionnées à la carte\n",
        "    folium.GeoJson(donnees_selectionnees).add_to(ma_carte)\n",
        "\n",
        "    # Enregistrer la carte au format HTML\n",
        "    ma_carte.save(\"ma_carte.html\")\n",
        "    print(\"Carte générée avec succès.\")\n",
        "else:\n",
        "    print(\"Aucune géométrie sélectionnée. Vérifiez vos codes de département.\")"
      ],
<<<<<<< HEAD
<<<<<<< HEAD
      "id": "608a2ae7",
=======
      "id": "8e2e6027",
>>>>>>> main
=======
      "id": "48b62ea2",
>>>>>>> d938de631449099ac57484ed3a17a1b8a7d9dcd7
      "execution_count": null,
      "outputs": []
    },
    {
      "cell_type": "markdown",
      "metadata": {},
      "source": [
        "Ici on aura le code de la carte"
      ],
<<<<<<< HEAD
<<<<<<< HEAD
      "id": "1978c8ad"
=======
      "id": "c2f7511b"
>>>>>>> main
=======
      "id": "8781ee38"
>>>>>>> d938de631449099ac57484ed3a17a1b8a7d9dcd7
    }
  ],
  "metadata": {
    "kernelspec": {
      "name": "python3",
      "language": "python",
      "display_name": "Python 3 (ipykernel)"
    }
  },
  "nbformat": 4,
  "nbformat_minor": 5
}