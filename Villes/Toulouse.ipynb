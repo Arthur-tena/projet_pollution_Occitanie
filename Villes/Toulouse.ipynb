{
  "cells": [
    {
      "cell_type": "raw",
      "id": "e15df5e1",
      "metadata": {},
      "source": [
        "---\n",
        "title: \"Toulouse\"\n",
        "format: html\n",
        "---"
      ]
    },
    {
      "cell_type": "code",
      "execution_count": null,
      "id": "eaa6df05",
      "metadata": {
        "vscode": {
          "languageId": "python"
        }
      },
      "outputs": [],
      "source": [
        "#|code-fold: true\n",
        "import pandas as pd\n",
        "import requests\n",
        "from pyproj import Proj, transform\n",
        "import plotly.express as px\n",
        "import plotly.graph_objects as go\n",
        "\n",
        "\n",
        "url='https://services9.arcgis.com/7Sr9Ek9c1QTKmbwr/arcgis/rest/services/mesures_occitanie_annuelle_poll_princ/FeatureServer/0/query?where=1%3D1&outFields=nom_dept,nom_com,insee_com,nom_station,nom_poll,valeur,unite,date_debut,x_l93,y_l93&outSR=4326&f=json'\n",
        "\n",
        "#Extraction des données\n",
        "response = requests.get(url)\n",
        "if response.status_code == 200:\n",
        "    data = response.json()\n",
        "\n",
        "    # Extraction des entités de la réponse JSON\n",
        "    features = data.get('features', [])\n",
        "\n",
        "    # Extraction des données pertinentes de chaque entité\n",
        "    records = []\n",
        "    for feature in features:\n",
        "        attributes = feature.get('attributes', {})\n",
        "        records.append(attributes)\n",
        "\n",
        "    # Création d'un DataFrame\n",
        "    df_data = pd.DataFrame(records)\n",
        "    df_data['valeur'].drop(0, inplace=True)\n",
        "    # Conversion des coordonnées Lambert 93 en latitude et longitude\n",
        "    in_proj = Proj(init='epsg:2154')  # Lambert 93\n",
        "    out_proj = Proj(init='epsg:4326')  # WGS84 (latitude, longitude)\n",
        "    \n",
        "    df_data['longitude'], df_data['latitude'] = transform(in_proj, out_proj, df_data['x_l93'].values, df_data['y_l93'].values)\n",
        "\n",
        "    # Conversion de la colonne 'date_debut' qui est en millisecondes\n",
        "    df_data['date_debut'] = pd.to_datetime(df_data['date_debut'], unit='ms')\n",
        "\n",
        "    # Liste des polluants à afficher\n",
        "    polluants = ['NO', 'NOX', 'O3', 'PM10', 'NO2','PM2.5']\n",
        "    # Boucle à travers les polluants pour créer les graphiques\n",
        "for polluant in polluants:\n",
        "    #Regrouper les données de la ville de Montpellier\n",
        "    filt_data = df_data[(df_data['nom_com'] == 'TOULOUSE') & (df_data['nom_poll'] == polluant)]\n",
        "    filt_data = filt_data.sort_values(by='date_debut')\n",
        "    \n",
        "        \n",
        "    # Création d'un graphique\n",
        "    fig = px.scatter(\n",
        "        filt_data, x='date_debut', y='valeur',\n",
        "        color='nom_station', size='valeur', hover_name='date_debut',\n",
        "        title=f'Évolution de la pollution {polluant} à Toulouse',\n",
        "        labels={'valeur': f'Valeur {polluant} (ug.m-3)', 'date_debut': 'Année'}\n",
        "    )\n",
        "\n",
        "    # Relier les points pour chaque station\n",
        "    for nom_station in filt_data['nom_station'].unique():\n",
        "        trace_data = filt_data[filt_data['nom_station'] == nom_station]\n",
        "        fig.add_trace(go.Scatter(\n",
        "            x=trace_data['date_debut'],\n",
        "            y=trace_data['valeur'],\n",
        "            mode='lines',  \n",
        "            showlegend=False\n",
        "        ))\n",
        "    fig.show()"
      ]
    }
  ],
  "metadata": {
    "kernelspec": {
      "display_name": "Python 3 (ipykernel)",
      "language": "python",
      "name": "python3"
    }
  },
  "nbformat": 4,
  "nbformat_minor": 5
}
