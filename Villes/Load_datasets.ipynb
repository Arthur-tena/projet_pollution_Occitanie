{
 "cells": [
  {
   "cell_type": "code",
   "execution_count": 1,
   "metadata": {},
   "outputs": [],
   "source": [
    "import os\n",
    "import pandas as pd\n",
    "\n",
    "class Load_datasets:\n",
    "    def __init__(self, path_csv='../data/Mesure_horaire.csv'):\n",
    "        \"\"\"\n",
    "        \"\"\"\n",
    "        self.path_csv = path_csv\n",
    "\n",
    "    def charge_data(self):\n",
    "        \"\"\"\n",
    "        \"\"\"\n",
    "        data_path = os.path.join(os.getcwd(), self.path_csv)\n",
    "        df = pd.read_csv(data_path,usecols=[\"X\",\"Y\",'nom_com',\"nom_poll\",\"valeur\"])\n",
    "\n",
    "        return df\n",
    "    \n",
    "    def list_YX_polluant(self, nom_polluant):\n",
    "        \"\"\"\n",
    "        \"\"\"\n",
    "        df = self.charge_data()\n",
    "        get_poll = df[df['nom_poll'] == str(nom_polluant)]['valeur'].tolist()\n",
    "        # Longitude de chaque zone\n",
    "        long = df[\"X\"].unique().tolist()\n",
    "        # Latittude de chaque zone\n",
    "        lat = df[\"Y\"].unique().tolist()\n",
    "        Liste_final = list(zip(lat,long,get_poll))\n",
    "        return Liste_final\n"
   ]
  },
  {
   "cell_type": "code",
   "execution_count": 3,
   "metadata": {},
   "outputs": [],
   "source": [
    "listes = Load_datasets()"
   ]
  },
  {
   "cell_type": "code",
   "execution_count": 5,
   "metadata": {},
   "outputs": [],
   "source": [
    "df = listes.charge_data()"
   ]
  },
  {
   "cell_type": "code",
   "execution_count": 10,
   "metadata": {},
   "outputs": [
    {
     "data": {
      "text/plain": [
       "[43.60389306699829, 3.875476149541427]"
      ]
     },
     "execution_count": 10,
     "metadata": {},
     "output_type": "execute_result"
    }
   ],
   "source": [
    "list(df[df['nom_com']==i][['Y','X']].mean())"
   ]
  },
  {
   "cell_type": "code",
   "execution_count": 1,
   "metadata": {},
   "outputs": [],
   "source": []
  }
 ],
 "metadata": {
  "kernelspec": {
   "display_name": "base",
   "language": "python",
   "name": "python3"
  },
  "language_info": {
   "codemirror_mode": {
    "name": "ipython",
    "version": 3
   },
   "file_extension": ".py",
   "mimetype": "text/x-python",
   "name": "python",
   "nbconvert_exporter": "python",
   "pygments_lexer": "ipython3",
   "version": "3.11.5"
  }
 },
 "nbformat": 4,
 "nbformat_minor": 2
}
