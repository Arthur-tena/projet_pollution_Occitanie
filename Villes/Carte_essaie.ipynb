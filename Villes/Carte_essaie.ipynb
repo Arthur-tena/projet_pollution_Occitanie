{
  "cells": [
    {
      "cell_type": "raw",
      "metadata": {},
      "source": [
        "---\n",
        "title: \"Untitled\"\n",
        "format: html\n",
        "---"
      ],
      "id": "a23319a6"
    },
    {
      "cell_type": "code",
      "metadata": {},
      "source": [
        "import pygal_maps_fr\n",
        "\n",
        "# Créer une carte de la France\n",
        "france_map = pygal_maps_fr.Regions()\n",
        "\n",
        "# Ajouter la région Occitanie avec une couleur spécifique\n",
        "france_map.add('Occitanie', ['mpl', 'lrr', 'lr', 'ar', 'hp', 'av', 'gm', 'ta'], colors=['#00FF00'])\n",
        "\n",
        "# Enregistrer la carte dans un fichier SVG\n",
        "france_map.render_to_file('carte_occitanie.svg')"
      ],
      "id": "d5268ab2",
      "execution_count": null,
      "outputs": []
    }
  ],
  "metadata": {
    "kernelspec": {
      "name": "python3",
      "language": "python",
      "display_name": "Python 3 (ipykernel)"
    }
  },
  "nbformat": 4,
  "nbformat_minor": 5
}