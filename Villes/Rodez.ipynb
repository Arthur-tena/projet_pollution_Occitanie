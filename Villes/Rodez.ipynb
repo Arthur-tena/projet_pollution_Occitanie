{
  "cells": [
    {
      "cell_type": "raw",
      "metadata": {},
      "source": [
        "---\n",
        "title: \"Rodez\"\n",
        "format: html\n",
        "---"
      ],
      "id": "d151cb85"
    },
    {
      "cell_type": "markdown",
      "metadata": {},
      "source": [
        "## Graphique des concentrations  annuelles de polluant dans la ville\n"
      ],
      "id": "3a11679c"
    },
    {
      "cell_type": "code",
      "metadata": {},
      "source": [
        "#|code-fold: true\n",
        "import pandas as pd\n",
        "import plotly.express as px\n",
        "import plotly.graph_objects as go\n",
        "from module import *\n",
        "afficher_evolution_pollution(\"RODEZ\", \"../data_visu/Mesure_annuelle_Region_Occitanie_Polluants_Principaux.csv\" ,['NO2', 'PM2.5', 'PM10', 'NOX', 'NO'])"
      ],
      "id": "54850888",
      "execution_count": null,
      "outputs": []
    },
    {
      "cell_type": "markdown",
      "metadata": {},
      "source": [
        "## Evolution de la pollution mensuelle "
      ],
      "id": "f8fd74a6"
    },
    {
      "cell_type": "code",
      "metadata": {},
      "source": [
        "#|code-fold: true\n",
        "polar_plot_mensuelle(\"RODEZ\")"
      ],
      "id": "8be19837",
      "execution_count": null,
      "outputs": []
    },
    {
      "cell_type": "markdown",
      "metadata": {},
      "source": [
        "## Evolution de la pollution au cours de la semaine\n"
      ],
      "id": "ff060fb7"
    },
    {
      "cell_type": "code",
      "metadata": {},
      "source": [
        "#|code-fold: true\n",
        "pollutants_evolution_ville(\"../data_visu/Mesure_horaire_(30j)_Region_Occitanie_Polluants_Reglementaires.csv\",['NO2', 'PM2.5', 'PM10', 'NOX', 'NO'],\"RODEZ\")"
      ],
      "id": "3195458c",
      "execution_count": null,
      "outputs": []
    },
    {
      "cell_type": "markdown",
      "metadata": {},
      "source": [
        "## Evolution de la pollution journalière\n"
      ],
      "id": "929291df"
    },
    {
      "cell_type": "code",
      "metadata": {},
      "source": [
        "#|code-fold: true\n",
        "create_polar_plot(\"RODEZ\")"
      ],
      "id": "2f3285de",
      "execution_count": null,
      "outputs": []
    }
  ],
  "metadata": {
    "kernelspec": {
      "name": "python3",
      "language": "python",
      "display_name": "Python 3 (ipykernel)"
    }
  },
  "nbformat": 4,
  "nbformat_minor": 5
}