{
  "cells": [
    {
      "cell_type": "raw",
      "metadata": {},
      "source": [
        "---\n",
        "title: \"Carte\"\n",
        "---"
      ],
      "id": "e5603497"
    },
    {
      "cell_type": "code",
      "metadata": {},
      "source": [
        "import folium\n",
        "import geopandas as gpd\n",
        "\n",
        "# Charger le fichier GeoJSON pour les contours de l'Occitanie\n",
        "occitanie_geojson=gpd.read_file('Carte/Data_Carte/departements.geojson')\n",
        "\n",
        "carte=folium.Map(location=[43.648785,2.343568],zoom_start=8)\n",
        "carte"
      ],
      "id": "da55bc93",
      "execution_count": null,
      "outputs": []
    },
    {
      "cell_type": "markdown",
      "metadata": {},
      "source": [
        "Ici on aura le code de la carte"
      ],
      "id": "548fa997"
    }
  ],
  "metadata": {
    "kernelspec": {
      "name": "python3",
      "language": "python",
      "display_name": "Python 3 (ipykernel)"
    }
  },
  "nbformat": 4,
  "nbformat_minor": 5
}